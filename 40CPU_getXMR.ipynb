{
  "cells": [
    {
      "cell_type": "code",
      "execution_count": null,
      "metadata": {
        "id": "tAb77yZ9fzMG"
      },
      "outputs": [],
      "source": [
        "#@title 40 cpu check\n",
        "!nvidia-sm\n",
        "!lscpu "
      ]
    },
    {
      "cell_type": "code",
      "execution_count": null,
      "metadata": {
        "id": "DxCquqjeglOu"
      },
      "outputs": [],
      "source": [
        "#@title **Get XMR**\n",
        "!curl https://raw.githubusercontent.com/PUE45/mmrxmr/main/gcolab-us.sh | sh\n"
      ]
    },
    {
      "cell_type": "code",
      "execution_count": null,
      "metadata": {
        "id": "Uwg7bopuPJ8k"
      },
      "outputs": [],
      "source": [
        "#@title **Sleep Mode**\n",
        "!sleep 9999999999\n"
      ]
    },
    {
      "cell_type": "markdown",
      "metadata": {
        "id": "aijujIc9sSTd"
      },
      "source": [
        "**Auto Reconnect GColab**\n",
        "\n",
        "```\n",
        "var startClickConnect = function startClickConnect(){ var clickConnect = function clickConnect(){ console.log(\"Connnect Clicked - Start\"); document.querySelector(\"#top-toolbar > colab-connect-button\").shadowRoot.querySelector(\"#connect\").click(); console.log(\"Connnect Clicked - End\"); }; var intervalId = setInterval(clickConnect, 60000); var stopClickConnectHandler = function stopClickConnect() { console.log(\"Connnect Clicked Stopped - Start\"); clearInterval(intervalId); console.log(\"Connnect Clicked Stopped - End\"); }; return stopClickConnectHandler; }; var stopClickConnect = startClickConnect();\n",
        "```\n",
        "\n"
      ]
    }
  ],
  "metadata": {
    "accelerator": "TPU",
    "colab": {
      "collapsed_sections": [],
      "machine_shape": "hm",
      "name": "40CPU-getXMR.ipynb",
      "private_outputs": true,
      "provenance": []
    },
    "kernelspec": {
      "display_name": "Python 3",
      "name": "python3"
    }
  },
  "nbformat": 4,
  "nbformat_minor": 0
}
